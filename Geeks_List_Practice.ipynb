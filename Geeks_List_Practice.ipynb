{
 "cells": [
  {
   "cell_type": "markdown",
   "id": "875ff5d2",
   "metadata": {},
   "source": [
    "1. Python program to interchange first and last elements in a list\n",
    "2. Python program to swap two elements in a list\n",
    "3. Python | Ways to find length of list\n",
    "4. Python | Ways to check if element exists in list\n",
    "5. Different ways to clear a list in Python\n",
    "6. Python | Reversing a List\n",
    "7. Python program to find sum of elements in list\n",
    "8. Python | Multiply all numbers in the list\n",
    "9. Python program to find smallest number in a list\n",
    "10. Python program to find largest number in a list\n",
    "11. Python program to find second largest number in a list\n",
    "12. Python program to find N largest elements from a list\n",
    "13. Python program to print even numbers in a list\n",
    "14. Python program to print odd numbers in a List\n",
    "15. Python program to print all even numbers in a range\n",
    "16. Python program to print all odd numbers in a range\n",
    "17. Python program to print positive numbers in a list\n",
    "18. Python program to print negative numbers in a list\n",
    "19. Python program to print all positive numbers in a range\n",
    "20. Python program to print all negative numbers in a range\n",
    "21. Remove multiple elements from a list in Python\n",
    "22. Python – Remove empty List from List\n",
    "23. Python | Cloning or Copying a list\n",
    "24. Python | Count occurrences of an element in a list\n",
    "25. Python | Remove empty tuples from a list\n",
    "26. Python | Program to print duplicates from a list of integers\n",
    "27. Python program to find Cumulative sum of a list\n",
    "28. Python | Sum of number digits in List\n",
    "29. Break a list into chunks of size N in Python\n",
    "30. Python | Sort the values of first list using second list"
   ]
  },
  {
   "cell_type": "code",
   "execution_count": 4,
   "id": "ac18ae9c",
   "metadata": {},
   "outputs": [
    {
     "name": "stdout",
     "output_type": "stream",
     "text": [
      "Original_list:  [1, 2, 3, 4, 5, 6, 7, 8, 9]\n",
      "List_with_interchanged_elements:  [9, 2, 3, 4, 5, 6, 7, 8, 1]\n"
     ]
    }
   ],
   "source": [
    "# Python program to interchange first and last elements in a list\n",
    "def list_interchange(give_list):\n",
    "    print(\"Original_list: \", give_list)\n",
    "    give_list[0], give_list[-1] = give_list[-1], give_list[0]\n",
    "    print(\"List_with_interchanged_elements: \", give_list)\n",
    "    return\n",
    "\n",
    "my_list = [i for i in range(1, 10)]\n",
    "list_interchange(my_list)"
   ]
  },
  {
   "cell_type": "code",
   "execution_count": 8,
   "id": "b0373260",
   "metadata": {},
   "outputs": [
    {
     "name": "stdout",
     "output_type": "stream",
     "text": [
      "Original_list : [1, 3, 5, 7, 9]\n",
      "After_Swapping_List:  [1, 3, 7, 5, 9]\n"
     ]
    }
   ],
   "source": [
    "#Python program to swap two elements in a list {suppose 5, 7}\n",
    "def list_swap(give_list):\n",
    "    print(\"Original_list :\", give_list)\n",
    "    give_list[2], give_list[3] = give_list[3], give_list[2]\n",
    "    print(\"After_Swapping_List: \", give_list)\n",
    "\n",
    "# suppose list of odd numbers\n",
    "my_list = [i for i in range(1, 11) if i%2 !=0]\n",
    "list_swap(my_list)"
   ]
  },
  {
   "cell_type": "code",
   "execution_count": 9,
   "id": "2eb59d15",
   "metadata": {},
   "outputs": [
    {
     "data": {
      "text/plain": [
       "5"
      ]
     },
     "execution_count": 9,
     "metadata": {},
     "output_type": "execute_result"
    }
   ],
   "source": [
    "# Python|Ways to find length of list\n",
    "def list_length(give_list):\n",
    "    return len(give_list)\n",
    "\n",
    "# Suppose even number list\n",
    "my_list = [i for i in range(1, 11) if i%2 == 0]\n",
    "list_length(my_list)"
   ]
  },
  {
   "cell_type": "code",
   "execution_count": 27,
   "id": "e6d6131c",
   "metadata": {},
   "outputs": [
    {
     "name": "stdout",
     "output_type": "stream",
     "text": [
      "Elements not present\n",
      "Elements not present\n",
      "Elements Present\n",
      "Elements Present\n"
     ]
    }
   ],
   "source": [
    "# Python | Ways to check if element exists in list\n",
    "def check_elems(give_list, elements: list):\n",
    "    for ele in elements:\n",
    "        if ele not in give_list:\n",
    "            print(\"Elements not present\")\n",
    "        else:\n",
    "            print(\"Elements Present\")\n",
    "    return\n",
    "\n",
    "elems = [16, 17, 2, 4]\n",
    "my_list = [i for i in range(1, 10)]\n",
    "check_elems(my_list, elements)"
   ]
  },
  {
   "cell_type": "code",
   "execution_count": 38,
   "id": "9386867e",
   "metadata": {},
   "outputs": [
    {
     "name": "stdout",
     "output_type": "stream",
     "text": [
      "Original_List_1:  [1, 2, 3, 4, 5]\n",
      "After Deleting:  []\n",
      "Original_List_2:  [1, 2, 4, 5]\n",
      "After Deleting:  []\n"
     ]
    }
   ],
   "source": [
    "# Different ways to clear a list in Python\n",
    "my_list = [1, 2, 3, 4, 5]\n",
    "print(\"Original_List_1: \", my_list)\n",
    "my_list.clear()\n",
    "print(\"After Deleting: \", my_list)\n",
    "\n",
    "my_list_1 = [1, 2, 4, 5]\n",
    "print(\"Original_List_2: \", my_list_1)\n",
    "del my_list_1[:]\n",
    "print(\"After Deleting: \", my_list_1)\n",
    "\n"
   ]
  },
  {
   "cell_type": "code",
   "execution_count": 26,
   "id": "fbb4ce6c",
   "metadata": {},
   "outputs": [
    {
     "name": "stdout",
     "output_type": "stream",
     "text": [
      "Original_list:  [0, 1, 2, 3, 4, 5, 6, 7, 8, 9]\n",
      "Reverse_List:  [9, 8, 7, 6, 5, 4, 3, 2, 1, 0]\n"
     ]
    }
   ],
   "source": [
    "# reversing a list\n",
    "def list_reverse(give_list: list):\n",
    "    give_list.reverse()\n",
    "    return give_list\n",
    "\n",
    "my_list = [i for i in range(0, 10)]\n",
    "print(\"Original_list: \", my_list)\n",
    "print(\"Reverse_List: \", list_reverse(my_list))"
   ]
  },
  {
   "cell_type": "code",
   "execution_count": 29,
   "id": "0a8f66e6",
   "metadata": {},
   "outputs": [
    {
     "name": "stdout",
     "output_type": "stream",
     "text": [
      "Sum of elements in list are:  10\n"
     ]
    }
   ],
   "source": [
    "# Python program to find sum of elements in list\n",
    "def sum_elements_list(give_list):\n",
    "    s = 0\n",
    "    for ele in give_list:\n",
    "        s = s + ele\n",
    "    return s\n",
    "\n",
    "my_list = [1, 2, 3, 4]\n",
    "print(\"Sum of elements in list are: \", sum_elements_list(my_list))\n"
   ]
  },
  {
   "cell_type": "code",
   "execution_count": 44,
   "id": "f080f57b",
   "metadata": {},
   "outputs": [
    {
     "name": "stdout",
     "output_type": "stream",
     "text": [
      "Multiplication of elements in given list is:  120\n"
     ]
    }
   ],
   "source": [
    "# Python | Multiply all numbers in the list\n",
    "import math\n",
    "def mul_list_nums(give_list: list): \n",
    "    return math.prod(give_list)\n",
    "    \n",
    "\n",
    "mylist = [1, 2, 3, 4, 5]\n",
    "print(\"Multiplication of elements in given list is: \", mul_list_nums(mylist))"
   ]
  },
  {
   "cell_type": "code",
   "execution_count": 64,
   "id": "65549401",
   "metadata": {},
   "outputs": [
    {
     "name": "stdout",
     "output_type": "stream",
     "text": [
      "Smallest_element: -1 | Second_largest:  4 | Largest_element: 5\n"
     ]
    }
   ],
   "source": [
    "# Python program to find smallest | largest | second largest element from the list\n",
    "def smallest_n_largest(give_list:list):\n",
    "    smallest = min(give_list)\n",
    "    largest = max(give_list)\n",
    "    give_list.sort()\n",
    "    sec_largest = give_list[-2]\n",
    "    return smallest, largest, sec_largest\n",
    "\n",
    "my_list = [1, 2, 4, 5, -1]\n",
    "smallest_element, largest_element, second_largest = smallest_n_largest(my_list)\n",
    "print(\"Smallest_element:\", smallest_element,\n",
    "      \"| Second_largest: \", second_largest, \n",
    "      \"| Largest_element:\", largest_element,)"
   ]
  },
  {
   "cell_type": "code",
   "execution_count": 71,
   "id": "c6e8c682",
   "metadata": {},
   "outputs": [
    {
     "name": "stdout",
     "output_type": "stream",
     "text": [
      "List of odd_nums:  [2, 4, -2, 4, -4, 10] \n",
      "List of even_nums:  [1, 3, 3, 11] \n",
      "Positive_numbers:  [1, 2, 3, 4, 3, 4, 10, 11] \n",
      "Negative_numbers:  [-2, -4]\n"
     ]
    }
   ],
   "source": [
    "#Python program to print even, odd, positive, negative numbers\n",
    "\n",
    "def even_odd(give_list: list):\n",
    "    even_nums= [i for i in give_list if i%2 == 0]\n",
    "    odd_nums = [i for i in give_list if i%2 !=0]\n",
    "    pos_nums = [i for i in give_list if i>0]\n",
    "    neg_nums = [i for i in give_list if i<0]\n",
    "    return even_nums, odd_nums, pos_nums, neg_nums\n",
    "\n",
    "my_list = [1, 2, 3, 4, -2, 3, 4,-4, 10, 11]\n",
    "odd_numbers, even_numbers, positive_numbers, negative_numbers = even_odd(my_list)\n",
    "print(\"List of odd_nums: \", odd_numbers, \n",
    "      \"\\nList of even_nums: \", even_numbers, \n",
    "      \"\\nPositive_numbers: \", positive_numbers, \n",
    "      \"\\nNegative_numbers: \", negative_numbers)"
   ]
  },
  {
   "cell_type": "code",
   "execution_count": 97,
   "id": "b6c74f34",
   "metadata": {},
   "outputs": [
    {
     "name": "stdout",
     "output_type": "stream",
     "text": [
      "[0, 1, 2, 3, 4, 5, 6, 7, 8, 9, 10, 11, 12, 13, 14, 15, 16, 17, 18, 19, 20, 21, 22, 23, 24, 25, 26, 27, 28, 29, 30, 31, 32, 33, 34, 35, 36, 37, 38, 39, 40, 41, 42, 43, 44, 45, 46, 47, 48, 49]\n",
      "\n",
      " [0, 1, 3, 4, 5, 6, 7, 8, 9, 10, 11, 12, 13, 14, 15, 16, 17, 18, 19, 20, 21, 22, 23, 24, 25, 26, 27, 28, 29, 30, 31, 32, 33, 34, 35, 36, 37, 38, 39, 40, 41, 42, 43, 44, 45, 46, 47, 48, 49]\n",
      "\n",
      " [0, 1, 3, 4, 11, 12, 13, 14, 15, 16, 17, 18, 19, 20, 21, 22, 23, 24, 25, 26, 27, 28, 29, 30, 31, 32, 33, 34, 35, 36, 37, 38, 39, 40, 41, 42, 43, 44, 45, 46, 47, 48, 49]\n"
     ]
    }
   ],
   "source": [
    "# remove multiple elements from a list\n",
    "def remove_elems(give_list):\n",
    "    return give_list\n",
    "\n",
    "my_list = [i for i in range(0, 50)]\n",
    "print(my_list)\n",
    "\n",
    "# remove single element\n",
    "my_list.remove(2)\n",
    "print(\"\\n\", my_list)\n",
    "\n",
    "# remove multiple_elems through slicing\n",
    "del my_list[4:10]\n",
    "print(\"\\n\", my_list)\n",
    "\n",
    "# removing multiple_elems no slicing\n",
    "\n",
    "# removing multiple_elems and slicing as well {ex - remove 1, 3, 20:25}"
   ]
  },
  {
   "cell_type": "code",
   "execution_count": null,
   "id": "37456e89",
   "metadata": {},
   "outputs": [],
   "source": []
  }
 ],
 "metadata": {
  "kernelspec": {
   "display_name": "Python 3 (ipykernel)",
   "language": "python",
   "name": "python3"
  },
  "language_info": {
   "codemirror_mode": {
    "name": "ipython",
    "version": 3
   },
   "file_extension": ".py",
   "mimetype": "text/x-python",
   "name": "python",
   "nbconvert_exporter": "python",
   "pygments_lexer": "ipython3",
   "version": "3.9.7"
  }
 },
 "nbformat": 4,
 "nbformat_minor": 5
}
